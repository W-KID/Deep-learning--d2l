{
 "cells": [
  {
   "cell_type": "code",
   "execution_count": 1,
   "metadata": {},
   "outputs": [],
   "source": [
    "import torch\n",
    "import random\n",
    "from d2l import torch as d2l"
   ]
  },
  {
   "cell_type": "code",
   "execution_count": 2,
   "metadata": {},
   "outputs": [],
   "source": [
    "\"\"\"⽣成y=Xw+b+噪声\"\"\"\n",
    "def synthetic_data(w,b,num_examples):\n",
    "    # 随机生成标准差为0，均值为1，形状为(num_examples,len((w)）的正态分布数据，因为w是x（特征，x1，x2。。。）的系数，即它的长度一定和特征的长度一样\n",
    "    x=torch.normal(0,1,(num_examples,len((w))))\n",
    "    # torch.matmul(x,w) 计算两个张量的矩阵乘积\n",
    "    y=torch.matmul(x,w)+b\n",
    "    #添加噪声，提高模型的泛化能力\n",
    "    y+=torch.normal(0,0.01,y.shape)\n",
    "    return x,y.reshape((-1,1))\n"
   ]
  },
  {
   "cell_type": "code",
   "execution_count": 3,
   "metadata": {},
   "outputs": [
    {
     "name": "stdout",
     "output_type": "stream",
     "text": [
      "features: tensor([-0.4217, -0.9197]) \n",
      "label: tensor([6.4761])\n"
     ]
    }
   ],
   "source": [
    "true_w=torch.tensor([2,-3.4])#给出特征的系数值，这两个系数 说明是两个特征\n",
    "true_b=4.2#截距为b\n",
    "features,labels=synthetic_data(true_w,true_b,1000)\n",
    "print('features:',features[0],'\\nlabel:',labels[0])\n",
    "#打印出来的其实是第0行数据的特征，x1,x2,和它对应的标签 label"
   ]
  },
  {
   "cell_type": "code",
   "execution_count": 4,
   "metadata": {},
   "outputs": [
    {
     "data": {
      "text/plain": [
       "<matplotlib.collections.PathCollection at 0x11215f400>"
      ]
     },
     "execution_count": 4,
     "metadata": {},
     "output_type": "execute_result"
    },
    {
     "data": {
      "image/png": "[encoded data removed]",
      "text/plain": [
       "<Figure size 640x480 with 1 Axes>"
      ]
     },
     "metadata": {},
     "output_type": "display_data"
    }
   ],
   "source": [
    "#通过散点图观测第二个特征值x2和label的线性关系\n",
    "d2l.plt.scatter(features[:,1].detach().numpy(),labels.detach().numpy(),1)\n",
    "# 使用 detach() 可以将其从计算图中分离出来，变成普通的张量，不再与计算图相关联，避免出现不必要的计算。\n",
    "# numpy() 方法可以将 PyTorch 张量转换为 NumPy 数组，这样可以方便地使用 NumPy 库中的函数进行数据分析和可视化等操作"
   ]
  },
  {
   "cell_type": "code",
   "execution_count": 5,
   "metadata": {},
   "outputs": [],
   "source": [
    "#用于生成一个可迭代的数据集  接收批量大小、特征矩阵和标签向量作为输入，生成大小为batch_size的小批量。每个小批量包含一组特征和标签\n",
    "def data_iter(batch_size,features,labels):\n",
    "    #计算样本数量\n",
    "    num_examples=len(features)\n",
    "    #样本下标列表\n",
    "    indices=list(range(num_examples))\n",
    "    #随机打乱列表\n",
    "    random.shuffle(indices)\n",
    "    for i in range(0,num_examples,batch_size):\n",
    "        batch_indices=torch.tensor(indices[i:min(i+batch_size,num_examples)])\n",
    "        #关键字yield定义生成器函数，可以像迭代器一样逐个返回值，而不是一次性返回全部值  知道循环完毕或者遇到return语句结束\n",
    "        yield features[batch_indices],labels[batch_indices]\n",
    "\n"
   ]
  },
  {
   "cell_type": "code",
   "execution_count": 6,
   "metadata": {},
   "outputs": [
    {
     "name": "stdout",
     "output_type": "stream",
     "text": [
      "tensor([[-0.4780,  0.8706],\n",
      "        [ 1.4682, -0.0145],\n",
      "        [ 0.1872, -0.8329],\n",
      "        [-1.1881, -0.5491],\n",
      "        [-1.2945,  1.0058],\n",
      "        [-1.3350, -0.5321],\n",
      "        [ 0.0338,  0.0087],\n",
      "        [-0.5704,  0.1711],\n",
      "        [-0.3679, -1.8904],\n",
      "        [-1.2193, -1.5055]]) \n",
      " tensor([[ 0.2715],\n",
      "        [ 7.1898],\n",
      "        [ 7.4052],\n",
      "        [ 3.6933],\n",
      "        [-1.8154],\n",
      "        [ 3.3463],\n",
      "        [ 4.2464],\n",
      "        [ 2.4728],\n",
      "        [ 9.8801],\n",
      "        [ 6.8799]])\n"
     ]
    }
   ],
   "source": [
    "batch_size=10\n",
    "for x ,y in data_iter(batch_size,features,labels):\n",
    "    print(x,'\\n',y)\n",
    "    break\n",
    "#利用gpu并行运算优势，每个样本和对应的损失函数的梯度都可以被并行运算，且gpu在处理几百个样本时，花费的时间不会比处理一个样本多太多\n",
    "#一般不用上诉函数方法，一般使用深度学习内置的迭代器"
   ]
  },
  {
   "cell_type": "code",
   "execution_count": 7,
   "metadata": {},
   "outputs": [
    {
     "name": "stdout",
     "output_type": "stream",
     "text": [
      "epoch1,loss0.044728\n",
      "epoch2,loss0.000197\n",
      "epoch3,loss0.000050\n"
     ]
    }
   ],
   "source": [
    "#初始化模型参数\n",
    "w=torch.normal(0,0.01,size=(2,1),requires_grad=True)\n",
    "b=torch.zeros(1,requires_grad=True)\n",
    "\n",
    "#定义模型\n",
    "def line_reg(x,w,b):\n",
    "    return torch.matmul(x,w)+b\n",
    "#定义损失函数(这里使用的均方误差)\n",
    "def squared_loss(y_hat,y):\n",
    "    return (y_hat-y.reshape(y_hat.shape))**2/2\n",
    "#定义优化算法\n",
    "\n",
    "# 在Python中，函数内的可变对象（如列表、字典、张量等）可以被原处修改。\n",
    "# 因此，即使我们没有显式地返回w和b，当param是指向w和b的引用时，w和b也会在param被原处修改的过程中更新。\n",
    "# 这里的w和b是在循环体外部定义的全局变量，因此在循环体内部修改它们的值时，循环体外部的w和b变量的值也会被更新。注意：在Python中，整数是不可变类型\n",
    "def sgd(params,lr,batch_size):\n",
    "    #这里我们使用torch.no_grad()函数临时禁用pytorch自带的自动微分功能，改为自动手动更新模型参数，减少内存的使用和提高计算速度\n",
    "    with torch.no_grad():\n",
    "        for param in params:\n",
    "            # param.grad/batch_size得到规范化后的梯度值 ，lr*param.grad/batch_size梯度按学习率的变化值，param-=lr*param.grad/batch_size更新后的梯度值\n",
    "            param-=lr*param.grad/batch_size\n",
    "            #清楚本轮的梯度，以便下一轮训练不会受本轮的梯度影响\n",
    "            param.grad.zero_()\n",
    "#\n",
    "lr=0.03\n",
    "num_epochs=3\n",
    "net=line_reg\n",
    "loss=squared_loss\n",
    "\n",
    "for epoch in range(num_epochs):\n",
    "    #对这一批次的每个batch_size大小样本进行梯度更新\n",
    "    for x,y in data_iter(batch_size,features,labels):\n",
    "        l=loss(net(x,w,b),y)\n",
    "        # 在 PyTorch 中，反向传播算法要求损失函数是一个标量（scalar），因为只有标量才有一个唯一的梯度值。\n",
    "        # 如果损失函数是一个非标量（如矩阵或张量），那么我们需要先将它转化为一个标量，才能进行反向传播\n",
    "        l.sum().backward()\n",
    "        sgd([w,b],lr,batch_size)\n",
    "    #对每个批次的样本进行梯度更新\n",
    "    with torch.no_grad():#避免受前一次批次的梯度影响\n",
    "        train_l=loss(net(features,w,b),labels)\n",
    "        print(f'epoch{epoch+1},loss{float(train_l.mean()):f}')\n"
   ]
  },
  {
   "cell_type": "code",
   "execution_count": 8,
   "metadata": {},
   "outputs": [
    {
     "name": "stdout",
     "output_type": "stream",
     "text": [
      "w的估计误差tensor([ 0.0008, -0.0008], grad_fn=<SubBackward0>)\n",
      "b的估计误差tensor([0.0002], grad_fn=<RsubBackward1>)\n"
     ]
    }
   ],
   "source": [
    "print(f'w的估计误差{true_w-w.reshape(true_w.shape)}')\n",
    "print(f'b的估计误差{true_b-b}')"
   ]
  },
  {
   "cell_type": "code",
   "execution_count": 51,
   "metadata": {},
   "outputs": [
    {
     "name": "stdout",
     "output_type": "stream",
     "text": [
      "[tensor([5]), tensor([6])]\n",
      "[tensor([5]), tensor([6])]\n"
     ]
    }
   ],
   "source": [
    "#c=5 python中整数是不可变类型这样传入是不可改的 或者改成c=[5]\n",
    "#d=6\n",
    "c = torch.tensor([5])\n",
    "d = torch.tensor([6])\n",
    "li=[c,d]\n",
    "def bb(li_1):\n",
    "    for i in li_1:\n",
    "        i=i+2#如果改的c[0]=5,这里就要用i[0]-=2,还有+=，-=等这类运算符不会开辟新空间是原地赋值，而i=i+2,此时就开辟了新空间，无法改变函数外的值\n",
    "    print(li_1)\n",
    "bb(li)\n",
    "print(li)\n"
   ]
  }
 ],
 "metadata": {
  "kernelspec": {
   "display_name": "Python 3",
   "language": "python",
   "name": "python3"
  },
  "language_info": {
   "codemirror_mode": {
    "name": "ipython",
    "version": 3
   },
   "file_extension": ".py",
   "mimetype": "text/x-python",
   "name": "python",
   "nbconvert_exporter": "python",
   "pygments_lexer": "ipython3",
   "version": "3.10.8"
  },
  "orig_nbformat": 4
 },
 "nbformat": 4,
 "nbformat_minor": 2
}
